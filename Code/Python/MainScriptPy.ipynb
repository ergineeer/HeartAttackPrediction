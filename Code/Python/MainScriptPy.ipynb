import pandas as pd
import numpy as np
import matplotlib.pyplot as plt
import os
import seaborn as sns
from sklearn.ensemble import RandomForestClassifier
from scipy.stats import chi2_contingency

os.chdir('/Heart Attack Prediction Study/')
print(os.getcwd())

heartData = pd.read_csv('Dataset/heart.csv')

# Data Analysis
print('\nDataset: ')
print(heartData)

print('\nDataset Summary: ')
print(heartData.describe(include='all'))
print('\nDataset Sizes: ')
print(heartData.shape)

print('\nVariable Types: ')
varTypes = [str(dtype) for dtype in heartData.dtypes]
print(varTypes)

print('\nMissing Values: ')
missingValues = heartData.isnull().sum().sum()
print(missingValues)
